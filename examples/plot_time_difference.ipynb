{
 "cells": [
  {
   "cell_type": "code",
   "execution_count": 22,
   "id": "69aff4d8-cce3-42e0-8987-bb0f838e5d53",
   "metadata": {
    "tags": []
   },
   "outputs": [
    {
     "name": "stdout",
     "output_type": "stream",
     "text": [
      "The autoreload extension is already loaded. To reload it, use:\n",
      "  %reload_ext autoreload\n"
     ]
    }
   ],
   "source": [
    "import pandas as pd\n",
    "import matplotlib.pyplot as plt\n",
    "\n",
    "import seaborn as sns\n",
    "\n",
    "%load_ext autoreload\n",
    "%autoreload 2\n"
   ]
  },
  {
   "cell_type": "code",
   "execution_count": 32,
   "id": "71ee91c7-991f-473b-bdf6-a11000b0cea4",
   "metadata": {
    "tags": []
   },
   "outputs": [],
   "source": [
    "# Plotting parameters\n",
    "# rc('text', usetex=False)\n",
    "small_size = 15\n",
    "medium_size = 25\n",
    "bigger_size = 30\n",
    "plt.rc('font', size=small_size)          # controls default text sizes\n",
    "plt.rc('axes', titlesize=small_size)    # fontsize of the axes title\n",
    "plt.rc('axes', labelsize=small_size)    # fontsize of the x and y labels\n",
    "plt.rc('xtick', labelsize=small_size)    # fontsize of the tick labels\n",
    "plt.rc('ytick', labelsize=small_size)    # fontsize of the tick labels\n",
    "plt.rc('legend', fontsize=small_size)    # legend fontsize\n",
    "plt.rc('figure', titlesize=small_size)  # fontsize of the figure title\n",
    "plt.rc('text', usetex = False)"
   ]
  },
  {
   "cell_type": "markdown",
   "id": "9e37b35b-54ca-447a-b104-9083978073a8",
   "metadata": {},
   "source": [
    "# Computation time\n",
    "\n",
    "- Notebook for running JAX-CanVeg on US-Bi1: `./US-Bi1/calculate_execution_time.ipynb`\n",
    "- Notebook for running JAX-CanVeg on US-Hn1: `./US-Hn1/calculate_execution_time.ipynb`\n"
   ]
  },
  {
   "cell_type": "code",
   "execution_count": 26,
   "id": "7b787934-fcef-41ba-89c4-259c5cadc0ca",
   "metadata": {
    "tags": []
   },
   "outputs": [],
   "source": [
    "usbi1_time = {\n",
    "    'Matlab': 1144.13, \n",
    "    'JAX-CPU': 60.,\n",
    "    'JAX-GPU': 2.15 \n",
    "}\n",
    "\n",
    "ushn1_time = {\n",
    "    'Matlab': 751.67, \n",
    "    'JAX-CPU': 49.7,\n",
    "    'JAX-GPU': 1.96 \n",
    "}\n",
    "\n",
    "usme2_time = {\n",
    "    'Matlab': 2846.56, \n",
    "    # 'JAX-CPU': 49.7,\n",
    "    # 'JAX-GPU': 1.96 \n",
    "}\n",
    "\n",
    "# uswhs_time = {\n",
    "#     'Matlab': 2846.56, \n",
    "#     'JAX-CPU': 49.7,\n",
    "#     'JAX-GPU': 1.96 \n",
    "# }\n"
   ]
  },
  {
   "cell_type": "code",
   "execution_count": 27,
   "id": "7e7a8127-b05e-4d4b-848f-e8795ec5aa8a",
   "metadata": {
    "tags": []
   },
   "outputs": [],
   "source": [
    "compute_time = pd.DataFrame(\n",
    "    [usbi1_time, ushn1_time]\n",
    ")\n",
    "compute_time.index = ['US-Bi1', 'US-Hn1']\n"
   ]
  },
  {
   "cell_type": "code",
   "execution_count": 28,
   "id": "f032c52f-05bf-45f9-82ff-9caaf91b50d4",
   "metadata": {
    "tags": []
   },
   "outputs": [
    {
     "data": {
      "text/html": [
       "<div>\n",
       "<style scoped>\n",
       "    .dataframe tbody tr th:only-of-type {\n",
       "        vertical-align: middle;\n",
       "    }\n",
       "\n",
       "    .dataframe tbody tr th {\n",
       "        vertical-align: top;\n",
       "    }\n",
       "\n",
       "    .dataframe thead th {\n",
       "        text-align: right;\n",
       "    }\n",
       "</style>\n",
       "<table border=\"1\" class=\"dataframe\">\n",
       "  <thead>\n",
       "    <tr style=\"text-align: right;\">\n",
       "      <th></th>\n",
       "      <th>Matlab</th>\n",
       "      <th>JAX-CPU</th>\n",
       "      <th>JAX-GPU</th>\n",
       "    </tr>\n",
       "  </thead>\n",
       "  <tbody>\n",
       "    <tr>\n",
       "      <th>US-Bi1</th>\n",
       "      <td>1144.13</td>\n",
       "      <td>60.0</td>\n",
       "      <td>2.15</td>\n",
       "    </tr>\n",
       "    <tr>\n",
       "      <th>US-Hn1</th>\n",
       "      <td>751.67</td>\n",
       "      <td>49.7</td>\n",
       "      <td>1.96</td>\n",
       "    </tr>\n",
       "  </tbody>\n",
       "</table>\n",
       "</div>"
      ],
      "text/plain": [
       "         Matlab  JAX-CPU  JAX-GPU\n",
       "US-Bi1  1144.13     60.0     2.15\n",
       "US-Hn1   751.67     49.7     1.96"
      ]
     },
     "execution_count": 28,
     "metadata": {},
     "output_type": "execute_result"
    }
   ],
   "source": [
    "compute_time"
   ]
  },
  {
   "cell_type": "code",
   "execution_count": 40,
   "id": "7a6acaff-5df0-463a-ac5a-9720efd730fe",
   "metadata": {
    "tags": []
   },
   "outputs": [],
   "source": [
    "# compute_time.melt(ignore_index=False)\n",
    "compute_time_df = pd.melt(compute_time.reset_index(), id_vars='index',value_vars=['Matlab','JAX-CPU', 'JAX-GPU'])\n",
    "compute_time_df.rename(columns={\"index\": \"Site\", \"variable\": \"Model\", \"value\":\"Time\"}, inplace=True)"
   ]
  },
  {
   "cell_type": "markdown",
   "id": "d7578b22-2e19-4edf-8770-2fac1f105623",
   "metadata": {},
   "source": [
    "# Plot"
   ]
  },
  {
   "cell_type": "code",
   "execution_count": 41,
   "id": "3dbcb358-7fa2-4e0a-9b53-f6b770a37fd9",
   "metadata": {},
   "outputs": [
    {
     "data": {
      "image/png": "[encoded data removed]",
      "text/plain": [
       "<Figure size 800x500 with 1 Axes>"
      ]
     },
     "metadata": {},
     "output_type": "display_data"
    }
   ],
   "source": [
    "fig, ax = plt.subplots(1, 1, figsize=(8,5))\n",
    "sns.barplot(compute_time_df, x=\"Site\", y=\"Time\", hue=\"Model\", ax=ax)\n",
    "ax.set(yscale='log', ylabel='Time (s)', xlabel='', ylim=[None, 2000]);\n",
    "for i in ax.containers:\n",
    "    ax.bar_label(i,fmt='%.1f')\n",
    "    "
   ]
  },
  {
   "cell_type": "code",
   "execution_count": null,
   "id": "e3032379-93f8-4aa3-ab64-a4e23f99d9ec",
   "metadata": {},
   "outputs": [],
   "source": []
  }
 ],
 "metadata": {
  "kernelspec": {
   "display_name": "jax-watershed",
   "language": "python",
   "name": "jax-watershed"
  },
  "language_info": {
   "codemirror_mode": {
    "name": "ipython",
    "version": 3
   },
   "file_extension": ".py",
   "mimetype": "text/x-python",
   "name": "python",
   "nbconvert_exporter": "python",
   "pygments_lexer": "ipython3",
   "version": "3.10.0"
  }
 },
 "nbformat": 4,
 "nbformat_minor": 5
}
