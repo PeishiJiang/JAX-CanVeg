{
 "cells": [
  {
   "cell_type": "markdown",
   "id": "75003a9c-af4a-4e7a-864a-7de435e66863",
   "metadata": {},
   "source": [
    "# Load the necessary libraries"
   ]
  },
  {
   "cell_type": "code",
   "execution_count": 1,
   "id": "2d68feef-7eee-4cbf-af37-e000c30adc8f",
   "metadata": {
    "tags": []
   },
   "outputs": [],
   "source": [
    "import optax\n",
    "import equinox as eqx\n",
    "\n",
    "import pickle\n",
    "from functools import partial\n",
    "\n",
    "from math import floor\n",
    "\n",
    "# import numpy as np\n",
    "import jax\n",
    "import jax.numpy as jnp\n",
    "import jax.tree_util as jtu\n",
    "\n",
    "import pandas as pd\n",
    "\n",
    "from jax_canoak.physics.energy_fluxes import get_dispersion_matrix\n",
    "\n",
    "from jax_canoak.models import CanoakIFT\n",
    "from jax_canoak.models import get_canle, update_canle\n",
    "from jax_canoak.models import get_soilresp, update_soilresp\n",
    "from jax_canoak.models import load_model, save_model\n",
    "\n",
    "# from jax_canoak.shared_utilities.optim import perform_optimization\n",
    "from jax_canoak.shared_utilities.optim import perform_optimization_batch\n",
    "from jax_canoak.shared_utilities import compute_metrics\n",
    "from jax_canoak.subjects import convert_met_to_batched_met\n",
    "from jax_canoak.subjects import (\n",
    "    # convert_batchedstates_to_states,\n",
    "    convert_obs_to_batched_obs,\n",
    ")\n",
    "from jax_canoak.subjects import get_met_forcings, get_obs, initialize_parameters\n",
    "from jax_canoak.models import run_canoak_in_batch\n",
    "\n",
    "from jax_canoak.models import save_model\n",
    "\n",
    "import matplotlib.pyplot as plt\n",
    "from jax_canoak.shared_utilities.plot import (\n",
    "    plot_daily,\n",
    "    plot_imshow2,\n",
    "    plot_timeseries_obs_1to1,\n",
    "    plot_rad,\n",
    "    plot_ir,\n",
    "    visualize_tree_diff,\n",
    ")\n",
    "from jax_canoak.shared_utilities.plot import (\n",
    "    plot_obs_1to1,\n",
    "    plot_obs_comparison,\n",
    "    plot_obs_energy_closure,\n",
    "    plot_dij,\n",
    "    plot_para_sensitivity_ranking,\n",
    "    plot_le_gs_lai,\n",
    "    get_time,\n",
    ")\n",
    "\n",
    "# from jax_canoak.shared_utilities.plot import plot_veg_temp, plot_dij\n",
    "# from jax_canoak.shared_utilities.plot import plot_ir, plot_rad, plot_prof2\n",
    "from jax_canoak.shared_utilities import tune_jax_naninfs_for_debug\n",
    "\n",
    "jax.config.update(\"jax_enable_x64\", True)\n",
    "tune_jax_naninfs_for_debug(False)\n",
    "# jax.config.update(\"jax_debug_nans\", False)\n",
    "# jax.config.update(\"jax_debug_infs\", False)\n",
    "# jax.config.update(\"XLA_PYTHON_CLIENT_ALLOCATOR\", 'platform')\n",
    "\n",
    "%load_ext autoreload\n",
    "%autoreload 2\n"
   ]
  },
  {
   "cell_type": "markdown",
   "id": "c80abe9e-9533-45a9-8e08-f087dda981e7",
   "metadata": {},
   "source": [
    "# Model parameters and settings"
   ]
  },
  {
   "cell_type": "code",
   "execution_count": 2,
   "id": "d2e16040-45bc-48ed-8034-a43ed216c3a3",
   "metadata": {
    "tags": []
   },
   "outputs": [],
   "source": [
    "time_zone = -8\n",
    "latitude = 46.4089\n",
    "longitude = -119.2750\n",
    "stomata = 0\n",
    "veg_ht = 1.2\n",
    "# leafangle = 2  # erectophile\n",
    "leafangle = 1\n",
    "n_can_layers = 50\n",
    "n_atmos_layers = 50\n",
    "meas_ht = 5.0\n",
    "soil_depth = 0.15\n",
    "n_hr_per_day = 48\n",
    "niter = 15\n",
    "# niter = 1\n",
    "\n",
    "# batch_size = 2\n",
    "# batch_size = 1274\n",
    "# batch_size = int(74496/2)\n",
    "batch_size, batch_size_test = None, None\n",
    "\n",
    "site = \"US-Hn1\"\n",
    "key = \"default\"\n",
    "\n",
    "# Forcing\n",
    "f_forcing = f\"../../data/fluxtower/{site}/{site}-forcings-v2.csv\"\n"
   ]
  },
  {
   "cell_type": "code",
   "execution_count": 3,
   "id": "60e8c5d0-abb9-437c-be68-2e2a38fd8704",
   "metadata": {
    "tags": []
   },
   "outputs": [
    {
     "data": {
      "text/plain": [
       "(27743, 14)"
      ]
     },
     "execution_count": 3,
     "metadata": {},
     "output_type": "execute_result"
    }
   ],
   "source": [
    "df = pd.read_csv(f_forcing)\n",
    "df.shape\n"
   ]
  },
  {
   "cell_type": "markdown",
   "id": "95e7940e-b80d-4a6e-9e87-71b36509139e",
   "metadata": {},
   "source": [
    "# GPU"
   ]
  },
  {
   "cell_type": "code",
   "execution_count": 4,
   "id": "9a9213e9-aefa-4b10-b935-cd8b970159a2",
   "metadata": {
    "tags": []
   },
   "outputs": [],
   "source": [
    "# import os\n",
    "# os.environ[\"JAX_PLATFORM_NAME\"] = \"gpu\"\n",
    "jax.config.update('jax_platform_name', 'cuda')"
   ]
  },
  {
   "cell_type": "markdown",
   "id": "1880a30a-882a-4b6a-8833-87ab5152f7b4",
   "metadata": {},
   "source": [
    "## Load and set the model forcings"
   ]
  },
  {
   "cell_type": "code",
   "execution_count": 5,
   "id": "72549ecb-7aec-4835-91d7-32e7587dc28b",
   "metadata": {
    "tags": []
   },
   "outputs": [],
   "source": [
    "jax.clear_caches()"
   ]
  },
  {
   "cell_type": "code",
   "execution_count": 6,
   "id": "311ad7f2-69b1-4150-87b9-054a910ca485",
   "metadata": {
    "tags": []
   },
   "outputs": [],
   "source": [
    "met, n_time = get_met_forcings(f_forcing)\n",
    "if batch_size is None: batch_size = n_time\n",
    "n_batch = floor(n_time / batch_size)\n",
    "batched_met = convert_met_to_batched_met(met, n_batch, batch_size)\n",
    "timesteps = get_time(met)\n"
   ]
  },
  {
   "cell_type": "code",
   "execution_count": 7,
   "id": "a3beca88-6721-468b-88ee-4c6ed87684fb",
   "metadata": {
    "tags": []
   },
   "outputs": [],
   "source": [
    "setup, para, para_min, para_max = initialize_parameters(\n",
    "    time_zone=time_zone,\n",
    "    latitude=latitude,\n",
    "    longitude=longitude,\n",
    "    stomata=stomata,\n",
    "    veg_ht=veg_ht,\n",
    "    leafangle=leafangle,\n",
    "    n_can_layers=n_can_layers,\n",
    "    n_atmos_layers=n_atmos_layers,\n",
    "    meas_ht=meas_ht,\n",
    "    soil_depth=soil_depth,\n",
    "    n_hr_per_day=n_hr_per_day,\n",
    "    n_time=n_time,\n",
    "    npart=int(1e6),\n",
    "    obs=None,\n",
    "    met=met,\n",
    "    niter=niter,\n",
    "    get_para_bounds=True,\n",
    ")\n"
   ]
  },
  {
   "cell_type": "code",
   "execution_count": 8,
   "id": "32e76096-501c-4ebf-aa82-ba6b551730b2",
   "metadata": {
    "tags": []
   },
   "outputs": [],
   "source": [
    "# dispersion matrix\n",
    "dij = get_dispersion_matrix(setup, para, f\"../../data/dij/Dij_{site}.csv\")"
   ]
  },
  {
   "cell_type": "code",
   "execution_count": 9,
   "id": "3776d190-ac6c-4a4b-b15c-5a7e9907d442",
   "metadata": {
    "tags": []
   },
   "outputs": [
    {
     "data": {
      "text/plain": [
       "cuda(id=0)"
      ]
     },
     "execution_count": 9,
     "metadata": {},
     "output_type": "execute_result"
    }
   ],
   "source": [
    "dij.device()"
   ]
  },
  {
   "cell_type": "markdown",
   "id": "0aacb446-f001-46a3-9a0b-8d78754373b3",
   "metadata": {
    "tags": []
   },
   "source": [
    "## Run the model"
   ]
  },
  {
   "cell_type": "code",
   "execution_count": 10,
   "id": "afdb4596-bd85-4550-ad37-6ff6b20cd7aa",
   "metadata": {
    "tags": []
   },
   "outputs": [],
   "source": [
    "canoak_eqx_ift = CanoakIFT(para, setup, dij)\n"
   ]
  },
  {
   "cell_type": "code",
   "execution_count": 11,
   "id": "97a96dd9-dfe5-47cd-8cec-c128b8383346",
   "metadata": {
    "tags": []
   },
   "outputs": [
    {
     "name": "stdout",
     "output_type": "stream",
     "text": [
      "1.96 s ± 62 ms per loop (mean ± std. dev. of 7 runs, 1 loop each)\n"
     ]
    }
   ],
   "source": [
    "%timeit canoak_eqx_ift(met)"
   ]
  },
  {
   "cell_type": "markdown",
   "id": "e1cd24da-7958-4f34-9a4a-8d5ba506b905",
   "metadata": {},
   "source": [
    "# CPU"
   ]
  },
  {
   "cell_type": "code",
   "execution_count": 4,
   "id": "776e2388-f729-4a42-ad44-9c4057f30736",
   "metadata": {
    "tags": []
   },
   "outputs": [],
   "source": [
    "# import os\n",
    "# os.environ[\"JAX_PLATFORM_NAME\"] = \"cpu\"\n",
    "jax.config.update('jax_platform_name', 'cpu')"
   ]
  },
  {
   "cell_type": "markdown",
   "id": "dbb68c14-8f7a-458d-bc5c-85dc826e1699",
   "metadata": {},
   "source": [
    "## Load and set the model forcings"
   ]
  },
  {
   "cell_type": "code",
   "execution_count": 5,
   "id": "5fc2f9dc-9f0f-4f6b-83c6-6632e9e7c1b9",
   "metadata": {
    "tags": []
   },
   "outputs": [],
   "source": [
    "jax.clear_caches()"
   ]
  },
  {
   "cell_type": "code",
   "execution_count": 6,
   "id": "f509b2d5-2b8e-431d-9c63-249c66287204",
   "metadata": {
    "tags": []
   },
   "outputs": [],
   "source": [
    "met, n_time = get_met_forcings(f_forcing)\n",
    "if batch_size is None: batch_size = n_time\n",
    "n_batch = floor(n_time / batch_size)\n",
    "batched_met = convert_met_to_batched_met(met, n_batch, batch_size)\n",
    "timesteps = get_time(met)"
   ]
  },
  {
   "cell_type": "code",
   "execution_count": 7,
   "id": "2a6bd4ef-9e6c-471e-b75b-9db4c882085d",
   "metadata": {
    "tags": []
   },
   "outputs": [],
   "source": [
    "setup, para, para_min, para_max = initialize_parameters(\n",
    "    time_zone=time_zone,\n",
    "    latitude=latitude,\n",
    "    longitude=longitude,\n",
    "    stomata=stomata,\n",
    "    veg_ht=veg_ht,\n",
    "    leafangle=leafangle,\n",
    "    n_can_layers=n_can_layers,\n",
    "    n_atmos_layers=n_atmos_layers,\n",
    "    meas_ht=meas_ht,\n",
    "    soil_depth=soil_depth,\n",
    "    n_hr_per_day=n_hr_per_day,\n",
    "    n_time=n_time,\n",
    "    npart=int(1e6),\n",
    "    obs=None,\n",
    "    met=met,\n",
    "    niter=niter,\n",
    "    get_para_bounds=True,\n",
    ")"
   ]
  },
  {
   "cell_type": "code",
   "execution_count": 8,
   "id": "7bab2d62-430d-4778-b657-2d6f1b4ef6cc",
   "metadata": {
    "tags": []
   },
   "outputs": [],
   "source": [
    "# dispersion matrix\n",
    "dij = get_dispersion_matrix(setup, para, f\"../../data/dij/Dij_{site}.csv\")"
   ]
  },
  {
   "cell_type": "code",
   "execution_count": 9,
   "id": "4b4e74ad-826a-4112-b691-1f71f43765a8",
   "metadata": {
    "tags": []
   },
   "outputs": [
    {
     "data": {
      "text/plain": [
       "CpuDevice(id=0)"
      ]
     },
     "execution_count": 9,
     "metadata": {},
     "output_type": "execute_result"
    }
   ],
   "source": [
    "dij.device()"
   ]
  },
  {
   "cell_type": "markdown",
   "id": "2cc2f461-cd74-47a3-90cb-5c0b87bbb1c3",
   "metadata": {},
   "source": [
    "## Run the model"
   ]
  },
  {
   "cell_type": "code",
   "execution_count": 10,
   "id": "f4401a05-2ce8-41f1-8806-235f337e4eec",
   "metadata": {
    "tags": []
   },
   "outputs": [],
   "source": [
    "canoak_eqx_ift = CanoakIFT(para, setup, dij)\n"
   ]
  },
  {
   "cell_type": "code",
   "execution_count": 11,
   "id": "7d202d55-bb91-4c05-a983-430141d964ce",
   "metadata": {
    "tags": []
   },
   "outputs": [
    {
     "name": "stdout",
     "output_type": "stream",
     "text": [
      "49.7 s ± 2.02 s per loop (mean ± std. dev. of 7 runs, 1 loop each)\n"
     ]
    }
   ],
   "source": [
    "%timeit canoak_eqx_ift(met)\n"
   ]
  },
  {
   "cell_type": "code",
   "execution_count": null,
   "id": "20b04b82-1e54-4084-8955-5b8d10cb87dd",
   "metadata": {},
   "outputs": [],
   "source": []
  }
 ],
 "metadata": {
  "kernelspec": {
   "display_name": "jax-watershed",
   "language": "python",
   "name": "jax-watershed"
  },
  "language_info": {
   "codemirror_mode": {
    "name": "ipython",
    "version": 3
   },
   "file_extension": ".py",
   "mimetype": "text/x-python",
   "name": "python",
   "nbconvert_exporter": "python",
   "pygments_lexer": "ipython3",
   "version": "3.10.0"
  }
 },
 "nbformat": 4,
 "nbformat_minor": 5
}
