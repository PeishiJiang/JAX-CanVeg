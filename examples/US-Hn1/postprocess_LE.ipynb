{
 "cells": [
  {
   "cell_type": "markdown",
   "metadata": {},
   "source": [
    "This notebook is used to postprocess and compare the LE simulations of different modeling configurations"
   ]
  },
  {
   "cell_type": "code",
   "execution_count": 4,
   "metadata": {},
   "outputs": [],
   "source": [
    "# TODO: A more generic way is needed here to load the path\n",
    "import sys\n",
    "\n",
    "sys.path.append(\n",
    "    \"/Users/jian449/Library/CloudStorage/OneDrive-PNNL/Codes/jax-watershed/src\"\n",
    "    # \"/global/homes/p/peishi89/jax-watershed/src\"\n",
    ")"
   ]
  },
  {
   "cell_type": "code",
   "execution_count": 20,
   "metadata": {},
   "outputs": [],
   "source": [
    "import pickle\n",
    "import pandas as pd\n",
    "from jax_canoak.subjects import get_met_forcings, get_obs\n",
    "from jax_canoak.shared_utilities import compute_metrics"
   ]
  },
  {
   "cell_type": "code",
   "execution_count": 6,
   "metadata": {},
   "outputs": [],
   "source": [
    "site = \"US-Hn1\"\n",
    "\n",
    "# Calibration period\n",
    "f_forcing = f\"../../data/fluxtower/{site}/{site}-forcings.csv\"\n",
    "f_obs = f\"../../data/fluxtower/{site}/{site}-fluxes-nonegle.csv\"\n",
    "\n",
    "# Test period\n",
    "f_forcing_test = f\"../../data/fluxtower/{site}/{site}-forcings-test.csv\"\n",
    "f_obs_test = f\"../../data/fluxtower/{site}/{site}-fluxes-nonegle-test.csv\""
   ]
  },
  {
   "cell_type": "markdown",
   "metadata": {},
   "source": [
    "# Load data"
   ]
  },
  {
   "cell_type": "markdown",
   "metadata": {},
   "source": [
    "## Load forcings and observations"
   ]
  },
  {
   "cell_type": "code",
   "execution_count": 7,
   "metadata": {},
   "outputs": [
    {
     "name": "stderr",
     "output_type": "stream",
     "text": [
      "/Users/jian449/Library/CloudStorage/OneDrive-PNNL/Codes/jax-watershed/src/jax_canoak/subjects/initialization_update.py:270: FutureWarning: DataFrame.interpolate with object dtype is deprecated and will raise in a future version. Call obj.infer_objects(copy=False) before interpolating instead.\n",
      "  obs.interpolate(method=\"linear\", limit_direction=\"both\", inplace=True)\n",
      "/Users/jian449/Library/CloudStorage/OneDrive-PNNL/Codes/jax-watershed/src/jax_canoak/subjects/initialization_update.py:270: FutureWarning: DataFrame.interpolate with object dtype is deprecated and will raise in a future version. Call obj.infer_objects(copy=False) before interpolating instead.\n",
      "  obs.interpolate(method=\"linear\", limit_direction=\"both\", inplace=True)\n"
     ]
    }
   ],
   "source": [
    "# Train\n",
    "obs = get_obs(f_obs)\n",
    "met, n_time = get_met_forcings(f_forcing)\n",
    "\n",
    "# Test\n",
    "obs_test = get_obs(f_obs_test)\n",
    "met_test, n_time = get_met_forcings(f_forcing_test)"
   ]
  },
  {
   "cell_type": "markdown",
   "metadata": {},
   "source": [
    "## Load simulations"
   ]
  },
  {
   "cell_type": "code",
   "execution_count": 8,
   "metadata": {},
   "outputs": [],
   "source": [
    "# No DL\n",
    "key1 = \"nodl\"\n",
    "f_out1 = f\"{site}_{key1}.pkl\"\n",
    "out1 = pickle.load(open(f_out1, \"rb\"))"
   ]
  },
  {
   "cell_type": "code",
   "execution_count": 9,
   "metadata": {},
   "outputs": [],
   "source": [
    "# Pure DL\n",
    "key2 = \"dl\"\n",
    "f_out2 = f\"{site}_{key2}.pkl\"\n",
    "out2 = pickle.load(open(f_out2, \"rb\"))"
   ]
  },
  {
   "cell_type": "code",
   "execution_count": 10,
   "metadata": {},
   "outputs": [],
   "source": [
    "# Hybrid\n",
    "key3 = \"hybridRH\"\n",
    "f_out3 = f\"{site}_{key3}.pkl\"\n",
    "out3 = pickle.load(open(f_out3, \"rb\"))"
   ]
  },
  {
   "cell_type": "markdown",
   "metadata": {},
   "source": [
    "## Combine "
   ]
  },
  {
   "cell_type": "code",
   "execution_count": 16,
   "metadata": {},
   "outputs": [
    {
     "data": {
      "text/plain": [
       "(18960, 1)"
      ]
     },
     "execution_count": 16,
     "metadata": {},
     "output_type": "execute_result"
    }
   ],
   "source": [
    "out2[\"train\"][\"LE\"].shape"
   ]
  },
  {
   "cell_type": "code",
   "execution_count": 17,
   "metadata": {},
   "outputs": [],
   "source": [
    "le_train = pd.DataFrame(\n",
    "    data={\n",
    "        \"obs\": obs.LE,\n",
    "        key1: out1[\"train\"][\"can.LE\"],\n",
    "        key2: out2[\"train\"][\"LE\"],\n",
    "        key3: out3[\"train\"][\"can.LE\"],\n",
    "    },\n",
    "    index=out1[\"train\"][\"time\"],\n",
    ")\n",
    "le_test = pd.DataFrame(\n",
    "    data={\n",
    "        \"obs\": obs_test.LE,\n",
    "        key1: out1[\"test\"][\"can.LE\"],\n",
    "        key2: out2[\"test\"][\"LE\"],\n",
    "        key3: out3[\"test\"][\"can.LE\"],\n",
    "    },\n",
    "    index=out1[\"test\"][\"time\"],\n",
    ")"
   ]
  },
  {
   "cell_type": "markdown",
   "metadata": {},
   "source": [
    "# Compute the performances"
   ]
  },
  {
   "cell_type": "code",
   "execution_count": 34,
   "metadata": {},
   "outputs": [],
   "source": [
    "metrics_keys = [\"rmse\", \"mse\", \"r2\", \"kge\", \"mkge\", \"cc\", \"nse\"]\n",
    "metrics_df = pd.DataFrame(columns=metrics_keys, index=[key1, key2, key3])\n",
    "metrics_test_df = pd.DataFrame(columns=metrics_keys, index=[key1, key2, key3])\n",
    "for key in [key1, key2, key3]:\n",
    "    metrics = compute_metrics(le_train[\"obs\"], le_train[key])\n",
    "    metrics_test = compute_metrics(le_test[\"obs\"], le_test[key])\n",
    "    for m in metrics_keys:\n",
    "        metrics_df.loc[key, m] = metrics[m]\n",
    "    for m in metrics_keys:\n",
    "        metrics_test_df.loc[key, m] = metrics_test[m]"
   ]
  },
  {
   "cell_type": "markdown",
   "metadata": {},
   "source": [
    "# Plot"
   ]
  },
  {
   "cell_type": "code",
   "execution_count": null,
   "metadata": {},
   "outputs": [],
   "source": []
  }
 ],
 "metadata": {
  "kernelspec": {
   "display_name": "jax-watershed",
   "language": "python",
   "name": "python3"
  },
  "language_info": {
   "codemirror_mode": {
    "name": "ipython",
    "version": 3
   },
   "file_extension": ".py",
   "mimetype": "text/x-python",
   "name": "python",
   "nbconvert_exporter": "python",
   "pygments_lexer": "ipython3",
   "version": "3.10.0"
  }
 },
 "nbformat": 4,
 "nbformat_minor": 2
}
